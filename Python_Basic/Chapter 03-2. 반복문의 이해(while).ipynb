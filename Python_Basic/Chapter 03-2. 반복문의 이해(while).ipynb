{
 "cells": [
  {
   "cell_type": "markdown",
   "metadata": {},
   "source": [
    "## 학습목표\n",
    " -  반복문의 이해 및 활용 (while)"
   ]
  },
  {
   "cell_type": "markdown",
   "metadata": {},
   "source": [
    "#### loop ( 반복문)\n",
    "+ 반복적인 작업을 가능하게 해주는 도구\n",
    "+ 특정 조건을 만족하는 경우 수행 할 수 있음 (while) -> 반복 횟수가 정해져 있지 않은 경우\n",
    "+ 리스트, 문자열, 튜플 등 컬렉션 타입의 아이템을 하나씩 순회하면서 사용 가능 (for) -> 반복 횟수가 정해져 있는 경우\n",
    "+ 코드 작업에서, 가장 많이 사용하는 구문 중 하나\n",
    "+ 주의 할 점: while을 사용할 경우, 반복을 멈추게 하는 장치가 필요\n",
    "    + 그렇지 않으면 셀이 무한히 수행되며, jupyter notebook의 재부팅 필요"
   ]
  },
  {
   "cell_type": "markdown",
   "metadata": {},
   "source": [
    ">Ex\n",
    "1. 현재 우리 홈페이지에 가입된 회원목록을 출력하세요.\n",
    "    - 내가 확인 하고 있는 중에도 누군가 또 가입하고 있을 수도 있기 때문에 while 사용. for 사용하면 그 반복문 끝나면 도중에 가입한 사람의 목록이 포함 되지 않음\n",
    "2. 1Page의 게시글을 출력해 주세요.\n",
    "    - for 사용"
   ]
  },
  {
   "cell_type": "markdown",
   "metadata": {},
   "source": [
    "- JAVA 에서의 for\n",
    "\n",
    "``` python\n",
    "- for (int i = 0 ; i < 조건 ; i ++){    \n",
    "}\n",
    "```\n",
    "\n",
    "- JAVA에서의 while을 for처럼 조건 설정\n",
    "\n",
    "``` python\n",
    "int i = 0;\n",
    "while(true){\n",
    "    if(i < 조건){\n",
    "        break;\n",
    "    }\n",
    "}\n",
    "```"
   ]
  },
  {
   "cell_type": "markdown",
   "metadata": {},
   "source": [
    "#### while 키워드\n",
    " - while 뒤의 조건이 True 일 경우, while 코드 블록을 계속 수행\n",
    " - while코드 블록\n",
    "     - if와 마찬가지로 while 문 아래의 들여쓰기로 작성 된 부분을 의미\n",
    " - 조건이 False가 되면 블록 수행을 멈추고 이후 코드를 실행"
   ]
  },
  {
   "cell_type": "markdown",
   "metadata": {},
   "source": [
    "#### while 키워드 이용하여 리스트의 아이템 출력하기"
   ]
  },
  {
   "cell_type": "code",
   "execution_count": 7,
   "metadata": {},
   "outputs": [
    {
     "name": "stdout",
     "output_type": "stream",
     "text": [
      "value: 1 ,index: 0\n",
      "value: 10 ,index: 1\n",
      "value: 9 ,index: 2\n",
      "value: 24 ,index: 3\n",
      "hahaha\n"
     ]
    }
   ],
   "source": [
    "# for -> while로 \n",
    "a = [1, 10, 9, 24]\n",
    "\n",
    "i = 0 #인덱스\n",
    "while i < len(a): \n",
    "    print('value:',a[i],',index:',i)\n",
    "    i += 1\n",
    "print('hahaha')"
   ]
  },
  {
   "cell_type": "markdown",
   "metadata": {},
   "source": [
    "#### while 키워드 이용하여 리스트의 아이템 출력하기\n",
    " - 조건문과 함께 사용하기"
   ]
  },
  {
   "cell_type": "code",
   "execution_count": 8,
   "metadata": {},
   "outputs": [
    {
     "name": "stdout",
     "output_type": "stream",
     "text": [
      "24\n",
      "25\n",
      "26\n"
     ]
    }
   ],
   "source": [
    "a = [1, 10 , 9, 24, 25, 26]\n",
    "\n",
    "i = 0 # 인덱스\n",
    "while i < len(a):\n",
    "    if a[i] > 20: # 20 보다 큰 경우만 출력하기\n",
    "        print(a[i])\n",
    "    i += 1"
   ]
  },
  {
   "cell_type": "markdown",
   "metadata": {},
   "source": [
    "#### 무한루프\n",
    " - while의 경우 종료가 되지 않도록 코드를 작성하면 블록에서 빠져나올 수 없음"
   ]
  },
  {
   "cell_type": "code",
   "execution_count": null,
   "metadata": {},
   "outputs": [],
   "source": [
    "while True:\n",
    "    print('haha')"
   ]
  },
  {
   "cell_type": "markdown",
   "metadata": {},
   "source": [
    "#### break\n",
    " + loop를 중단 할 때 사용\n",
    " + 보통 조건문 안에서 수행되며, 조건을 만족하는 경우 loop를 탈출하기 위해 사용\n",
    " + loop를 중단 하는 경우, while 이후의 코드를 수행\n",
    " \n",
    " + for : 반복횟수가 끝나면 빠져나감\n",
    " + while : 조건이 False면 빠져나감\n",
    " \n",
    " + for & while이든 반복문을 돌던 와중에 빠져나가고 싶으면 break 사용"
   ]
  },
  {
   "cell_type": "code",
   "execution_count": 15,
   "metadata": {},
   "outputs": [
    {
     "name": "stdout",
     "output_type": "stream",
     "text": [
      "1\n",
      "10\n",
      "9\n",
      "hahah\n"
     ]
    }
   ],
   "source": [
    "a = [1, 10, 9, 24, 25, 26]\n",
    "\n",
    "i = 0\n",
    "while i < len(a):\n",
    "    if a[i] >20:\n",
    "        break\n",
    "        \n",
    "    print(a[i])\n",
    "    \n",
    "    i += 1\n",
    "    \n",
    "print('hahah')"
   ]
  },
  {
   "cell_type": "code",
   "execution_count": null,
   "metadata": {},
   "outputs": [],
   "source": [
    "# crawl() 메서드가 있다고 가정!!!! ( 주의 : 실행안됨~ :/)\n",
    "# crawl() → 호출 → return(수집한 데이터)\n",
    "# 수집해야 하는 데이터 총 3개( A data, B data, C data)\n",
    "\n",
    "# 무한으로 계속 반복해서 작업하세요!\n",
    "\n",
    "while True:\n",
    "    data = crawl() # crawl()은 return으로 수집하려는 데이터를 반환\n",
    "    if data == None:\n",
    "        break\n",
    "    print(data)\n",
    "    \n",
    "    \n",
    "# 출력 : A data\n",
    "# 출력 : B data\n",
    "# 출력 : C data\n",
    "\n",
    "# 그 이후 데이터가 없어서  None이기 때문에 if문의 break실행되어 빠져나간다."
   ]
  },
  {
   "cell_type": "markdown",
   "metadata": {},
   "source": [
    "#### continue\n",
    " + break 처럼 반복을 중단하게 하여 빠져나오지 않고, 다시 while조건으로 점프함\n",
    " + 특정한 경우에는 코드를 수행하지 않고 다음으로 건너 뛰기 위해 사용 ( 다음 코드 수행)"
   ]
  },
  {
   "cell_type": "code",
   "execution_count": 17,
   "metadata": {},
   "outputs": [
    {
     "name": "stdout",
     "output_type": "stream",
     "text": [
      "6\n",
      "4\n",
      "3\n",
      "2\n",
      "1\n",
      "0\n"
     ]
    }
   ],
   "source": [
    "a = 7\n",
    "while a > 0:\n",
    "    a -= 1\n",
    "    if a == 5:\n",
    "        continue\n",
    "    print(a)"
   ]
  },
  {
   "cell_type": "markdown",
   "metadata": {},
   "source": [
    "### 1 - 100더하기"
   ]
  },
  {
   "cell_type": "code",
   "execution_count": 19,
   "metadata": {},
   "outputs": [
    {
     "ename": "SyntaxError",
     "evalue": "invalid syntax (<ipython-input-19-0f42eeee82cd>, line 3)",
     "output_type": "error",
     "traceback": [
      "\u001b[1;36m  File \u001b[1;32m\"<ipython-input-19-0f42eeee82cd>\"\u001b[1;36m, line \u001b[1;32m3\u001b[0m\n\u001b[1;33m    ```python\u001b[0m\n\u001b[1;37m    ^\u001b[0m\n\u001b[1;31mSyntaxError\u001b[0m\u001b[1;31m:\u001b[0m invalid syntax\n"
     ]
    }
   ],
   "source": [
    "- Python\n",
    "\n",
    "```python\n",
    "num = 1\n",
    "_sum = 0\n",
    "\n",
    "while num <= 10:\n",
    "    _sum += num\n",
    "    num += 1\n",
    "    print(_sum, num)\n",
    "    \n",
    "print(_sum)\n",
    "```"
   ]
  }
 ],
 "metadata": {
  "kernelspec": {
   "display_name": "Python 3",
   "language": "python",
   "name": "python3"
  },
  "language_info": {
   "codemirror_mode": {
    "name": "ipython",
    "version": 3
   },
   "file_extension": ".py",
   "mimetype": "text/x-python",
   "name": "python",
   "nbconvert_exporter": "python",
   "pygments_lexer": "ipython3",
   "version": "3.7.6"
  }
 },
 "nbformat": 4,
 "nbformat_minor": 4
}
