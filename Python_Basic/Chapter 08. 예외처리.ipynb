{
 "cells": [
  {
   "cell_type": "markdown",
   "metadata": {},
   "source": [
    "#### **try-except-else-finally**\n",
    " + Python에서는 try-except-finally\n",
    " + java에서 catch절이 python에서는 except절\n",
    " + 해주는 이유는 원래 에러뜨면 프로그램이 종료되기 때문에 프로그램 종료를 막기 위해서 사용"
   ]
  },
  {
   "cell_type": "code",
   "execution_count": 2,
   "metadata": {},
   "outputs": [
    {
     "name": "stdout",
     "output_type": "stream",
     "text": [
      "HTTP Error 404: Not Found\n",
      "무조건 실행\n"
     ]
    }
   ],
   "source": [
    "from urllib.request import urlopen\n",
    "from urllib.request import HTTPError\n",
    "\n",
    " # 파이썬 예외처리\n",
    " # try | except | else | finally\n",
    " # try : 예외가 발생할 수도 있는 부분\n",
    " # except : 예외처리 어떻게 할지 입력하는 곳\n",
    " # else : 예외가 발생하지 않았을 때 실행. JAVA에는 else가 없다. 나머지(try, finally, except는 있다.)\n",
    " # finally : 예외에 상관없이 무조건 실행. 자원을 반납하는 부분이 온다. (내가 굳이 처리해야 할 것이 없다면 생략 가능하다.)\n",
    " # 정상실행 : try -> else -> finally\n",
    " # 예외실행 : try -> except -> finally`\n",
    "\n",
    "try:\n",
    "    html = urlopen(\"http://www.pythonscraping.com/pages/error.html\") # 페이지 띄워라. 근데 이 페이지가 없다면?\n",
    "    # html = urlopen(\"http://wwww.pythonscraping.com/pages/page1.html\") # 이게 올바른 주소\n",
    "except HTTPError as e: # 그렇다면 HTTPError 예외처리를 쓰겠다. 근데 이름 너무 기니까 e로 줄여서 쓸래.\n",
    "    # pass를 입력하면 예외를 회피 할 수도 있음\n",
    "    print(e) #  HTTP Error 404:Not Found\n",
    "else:\n",
    "    print('no error')\n",
    "finally:\n",
    "    print('무조건 실행')"
   ]
  },
  {
   "cell_type": "code",
   "execution_count": null,
   "metadata": {},
   "outputs": [],
   "source": [
    "try: \n",
    "    DB연결(DB에 자원)\n",
    "    DB에 회원가입정보 저장\n",
    "except:\n",
    "    DB에 연결할 수 없습니다. 관리자에게 문의하세요\n",
    "finally:\n",
    "    DB자원 반납"
   ]
  },
  {
   "cell_type": "markdown",
   "metadata": {},
   "source": [
    "#### **예외 만들기**\n",
    " + raise\n",
    " -  except는 파이썬에서 직접 제공하는 것으로 만드는 예외처리. 이건 내가 특정 부분에 대하여 예외처리를 만들고 싶을시"
   ]
  },
  {
   "cell_type": "code",
   "execution_count": null,
   "metadata": {},
   "outputs": [],
   "source": [
    "class MyError(Exception):\n",
    "    pass\n",
    "def say_nick(nick):\n",
    "    if nick == '바보':\n",
    "        raise MyError() \n",
    "    print(nick)\n",
    "    \n",
    "    \n",
    "say_nick('천사')\n",
    "say_nick('바보')"
   ]
  },
  {
   "cell_type": "code",
   "execution_count": 8,
   "metadata": {},
   "outputs": [
    {
     "name": "stdout",
     "output_type": "stream",
     "text": [
      "천사\n",
      "허용되지 않은 별명입니다.\n"
     ]
    }
   ],
   "source": [
    "try:\n",
    "    say_nick('천사')\n",
    "    say_nick('바보')\n",
    "except MyError:\n",
    "    print('허용되지 않은 별명입니다.')"
   ]
  },
  {
   "cell_type": "code",
   "execution_count": 10,
   "metadata": {},
   "outputs": [
    {
     "name": "stdout",
     "output_type": "stream",
     "text": [
      "천사\n",
      "허용되지 않는 별명입니다.\n"
     ]
    }
   ],
   "source": [
    "# Error 메세지를 사용하고 싶을 때\n",
    "class MyError(Exception):\n",
    "    def __str__(self):\n",
    "        return '허용되지 않는 별명입니다.'\n",
    "try:\n",
    "    say_nick('천사')\n",
    "    say_nick('바보')\n",
    "except MyError as e:\n",
    "    print(e)"
   ]
  },
  {
   "cell_type": "code",
   "execution_count": null,
   "metadata": {},
   "outputs": [],
   "source": []
  },
  {
   "cell_type": "code",
   "execution_count": null,
   "metadata": {},
   "outputs": [],
   "source": []
  },
  {
   "cell_type": "code",
   "execution_count": null,
   "metadata": {},
   "outputs": [],
   "source": []
  },
  {
   "cell_type": "code",
   "execution_count": null,
   "metadata": {},
   "outputs": [],
   "source": []
  },
  {
   "cell_type": "code",
   "execution_count": null,
   "metadata": {},
   "outputs": [],
   "source": []
  },
  {
   "cell_type": "code",
   "execution_count": null,
   "metadata": {},
   "outputs": [],
   "source": []
  },
  {
   "cell_type": "code",
   "execution_count": null,
   "metadata": {},
   "outputs": [],
   "source": []
  },
  {
   "cell_type": "code",
   "execution_count": null,
   "metadata": {},
   "outputs": [],
   "source": []
  },
  {
   "cell_type": "code",
   "execution_count": null,
   "metadata": {},
   "outputs": [],
   "source": []
  },
  {
   "cell_type": "code",
   "execution_count": null,
   "metadata": {},
   "outputs": [],
   "source": []
  },
  {
   "cell_type": "code",
   "execution_count": null,
   "metadata": {},
   "outputs": [],
   "source": []
  }
 ],
 "metadata": {
  "kernelspec": {
   "display_name": "Python 3",
   "language": "python",
   "name": "python3"
  },
  "language_info": {
   "codemirror_mode": {
    "name": "ipython",
    "version": 3
   },
   "file_extension": ".py",
   "mimetype": "text/x-python",
   "name": "python",
   "nbconvert_exporter": "python",
   "pygments_lexer": "ipython3",
   "version": "3.7.6"
  }
 },
 "nbformat": 4,
 "nbformat_minor": 4
}
