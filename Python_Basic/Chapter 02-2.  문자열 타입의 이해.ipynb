{
 "cells": [
  {
   "cell_type": "markdown",
   "metadata": {},
   "source": [
    "### 학습목표\n",
    "1. 문자열(str) 타입 이해하기"
   ]
  },
  {
   "cell_type": "markdown",
   "metadata": {},
   "source": [
    "### **strinig(문자열)**\n",
    " - 복수개의 문자를 순서대로 나열 한 것\n",
    " - 문자열은 '(작은 따옴표)' 혹은 \"(큰따옴표)\" 사이에 문자를 넣어서 생성\n",
    " - 문자열 자체에 ',\" 가 있는 경우에는 각각 그 반대의 기호로 생성\n",
    " \n",
    " - 출력 했을 때 []로 출력 되면 배열이다!"
   ]
  },
  {
   "cell_type": "markdown",
   "metadata": {},
   "source": [
    "-JAVA\n",
    " - \"\" : 문자열(String)\n",
    " - '' : 문자(char)"
   ]
  },
  {
   "cell_type": "markdown",
   "metadata": {},
   "source": [
    "-Python & Javascript\n",
    "-\"\",'' :문자열(String)"
   ]
  },
  {
   "cell_type": "markdown",
   "metadata": {},
   "source": [
    "#### **''' '''  사용하여 표현 가능**\n",
    " - 차이점\n",
    "  - '',\"\" -> 한줄 문자열 표현 가능\n",
    "  - ''' ''' -> 여러 줄에 걸쳐 문자열 표현 가능\n",
    "  - \"\"\" \"\"\" -> 여러 줄에 걸쳐 문자열 표현 가능"
   ]
  },
  {
   "cell_type": "code",
   "execution_count": 3,
   "metadata": {},
   "outputs": [
    {
     "name": "stdout",
     "output_type": "stream",
     "text": [
      "hello world\n",
      "hi world\n",
      "hello 'python'. How are you?\n",
      "hello \"java\". How are you?\n",
      "Hello everyone.\n",
      "\n",
      "i am CHERRY\n"
     ]
    }
   ],
   "source": [
    "a = \"hello world\"\n",
    "b = 'hi world'\n",
    "c = \"hello 'python'. How are you?\"\n",
    "d = 'hello \"java\". How are you?'\n",
    "e = \"\"\"Hello everyone.\n",
    "\n",
    "i am CHERRY\"\"\"\n",
    "\n",
    "print(a)\n",
    "print(b)\n",
    "print(c)\n",
    "print(d)\n",
    "print(e)"
   ]
  },
  {
   "cell_type": "markdown",
   "metadata": {},
   "source": [
    "#### escape String(이스케이프 문자)\n",
    "* 문자열 내의 일부 문자의 의미를 달리하여 '특정한 효과'를 주는 것\n",
    "* '\\n' :new line '\\t' : tab 등"
   ]
  },
  {
   "cell_type": "code",
   "execution_count": 5,
   "metadata": {},
   "outputs": [
    {
     "name": "stdout",
     "output_type": "stream",
     "text": [
      "Hello World\n",
      "\n",
      "Ha\t hahahaha\n"
     ]
    }
   ],
   "source": [
    "print('Hello World\\n')\n",
    "print('Ha\\t hahahaha')"
   ]
  },
  {
   "cell_type": "markdown",
   "metadata": {},
   "source": [
    "#### **indexing & slicing string (문자열 인덱스 및 추출)**\n",
    " - 문자열의 각 문자는 순서가 있음\n",
    " - 이때 각 문자열의 순서를 **인덱스** 라고 함\n",
    " - 첫번째 문자부터 마지막까지 차례대로의 순서를 가짐\n",
    " - 첫번째 시작문서의 순서는 0으로 시작 (1이 아님)"
   ]
  },
  {
   "cell_type": "code",
   "execution_count": 9,
   "metadata": {},
   "outputs": [
    {
     "name": "stdout",
     "output_type": "stream",
     "text": [
      "o\n"
     ]
    }
   ],
   "source": [
    "a = 'Hello Python' # 길이 : 11(공백포함)\n",
    "print(a[10]) # 공백 포함 계산"
   ]
  },
  {
   "cell_type": "markdown",
   "metadata": {},
   "source": [
    "#### **-1 인덱스**\n",
    " - 다른 언어와는 달리, python의 경우 음수 인덱스를 지원\n",
    " - -1이 가장 마지막 인덱스를, -2가 마지막에서 두번째 인덱스를 의미..."
   ]
  },
  {
   "cell_type": "code",
   "execution_count": 10,
   "metadata": {},
   "outputs": [
    {
     "name": "stdout",
     "output_type": "stream",
     "text": [
      "H\n",
      "o\n",
      "n\n",
      "e\n"
     ]
    }
   ],
   "source": [
    "print(a[0])\n",
    "print(a[10])\n",
    "\n",
    "print(a[-1])\n",
    "print(a[-11])"
   ]
  },
  {
   "cell_type": "markdown",
   "metadata": {},
   "source": [
    "#### **인덱스의 범위**\n",
    " - 인덱스는 [0, 문자열의 길이] 의 범위만 유효\n",
    " - 음수 인덱스를 사용할 경우, [문자열의 길이, -1],\n",
    " - 범위를 넘어갈 경우 에러 발생"
   ]
  },
  {
   "cell_type": "code",
   "execution_count": null,
   "metadata": {},
   "outputs": [],
   "source": [
    "# print(a[11])\n",
    "print(a[-12])"
   ]
  },
  {
   "cell_type": "markdown",
   "metadata": {},
   "source": [
    "#### **문자열 slicing**\n",
    " - 인덱스가 하나의 문자만을 추출한다면,\n",
    " - slicing은 부분 문자열을 추출한다고 볼 수 있음\n",
    " - [시작:끝]와 같이 명시하여 [시작, 끝]에 해당하는 부분 문자열을 추출\n",
    " - 끝부분은 포함이 되지 않고 -1까지만 추출하므로 만약 내가 하고 싶은 부분까지 포함하고 싶다면 그 수에 +1 을 해주어야 한다\n",
    " - 시작, 끝 인덱스가 생략이 되어 있다면, 0부터 끝까지로 간주"
   ]
  },
  {
   "cell_type": "code",
   "execution_count": 16,
   "metadata": {},
   "outputs": [
    {
     "name": "stdout",
     "output_type": "stream",
     "text": [
      "P\n",
      " Pyt\n",
      "Hello Python\n",
      "Hello Pyt\n",
      " Python\n"
     ]
    }
   ],
   "source": [
    "print(a[6]) # 5번 문자 1개만\n",
    "print(a[5:9]) # 5번부터 8번가지 문자열\n",
    "print(a[:]) # 처음부터 끝까지 문자열\n",
    "print(a[:9]) # 처음부터 8까지 문자열\n",
    "print(a[5:]) # 5번 부터 끝가지 문자열"
   ]
  },
  {
   "cell_type": "markdown",
   "metadata": {},
   "source": [
    "#### **문자열 함수**\n",
    " - 문자열은 여러가지 기능 제공을 위한 함수를 내장\n",
    " - 함수란 특정 기능을 하는 코드로 언제든지 호출하여 해당 기능을 사용 가능하도록 구성 한 코드\n",
    " - 추후 함수에 대해 자세히 다룰 예정\n",
    " - 검색 할 때 많이 사용"
   ]
  },
  {
   "cell_type": "code",
   "execution_count": 18,
   "metadata": {},
   "outputs": [
    {
     "name": "stdout",
     "output_type": "stream",
     "text": [
      "HELLO WORLD\n",
      "hello world\n"
     ]
    }
   ],
   "source": [
    "a = 'hello world'\n",
    "b = \"HELLO world\"\n",
    "print(a.upper())\n",
    "print(b.lower())"
   ]
  },
  {
   "cell_type": "markdown",
   "metadata": {},
   "source": [
    "* **replace**\n",
    " - 문자열 내의 특정 문자를 치환\n",
    " - 하나만 바꾸는게 아니라 문자열 내의 해당 문자 전부를 치환함"
   ]
  },
  {
   "cell_type": "code",
   "execution_count": 23,
   "metadata": {},
   "outputs": [
    {
     "data": {
      "text/plain": [
       "'hejjo worjd'"
      ]
     },
     "execution_count": 23,
     "metadata": {},
     "output_type": "execute_result"
    }
   ],
   "source": [
    "a = 'hello world'\n",
    "a.replace('l','j')"
   ]
  },
  {
   "cell_type": "markdown",
   "metadata": {},
   "source": [
    "* **format**\n",
    " - 문자열 내의 특정한 값을 변수로부터 초기화 하여 동적으로 문자열을 생성"
   ]
  },
  {
   "cell_type": "code",
   "execution_count": 17,
   "metadata": {},
   "outputs": [
    {
     "name": "stdout",
     "output_type": "stream",
     "text": [
      "오늘 기온25.5도 이고, 비올 확률은 80.0% 입니다.\n"
     ]
    }
   ],
   "source": [
    "temperature = 25.5\n",
    "prob = 80.0\n",
    "\n",
    "a = '오늘 기온{}도 이고, 비올 확률은 {}% 입니다.'.format(temperature, prob)\n",
    "print(a)"
   ]
  },
  {
   "cell_type": "markdown",
   "metadata": {},
   "source": [
    "* **len**\n",
    " - 문자열의 길이를 계산"
   ]
  },
  {
   "cell_type": "code",
   "execution_count": 32,
   "metadata": {},
   "outputs": [
    {
     "name": "stdout",
     "output_type": "stream",
     "text": [
      "12\n"
     ]
    }
   ],
   "source": [
    "abc = 'hello Python'\n",
    "print(len(abc))"
   ]
  },
  {
   "cell_type": "markdown",
   "metadata": {},
   "source": [
    "* **split**\n",
    " - 문자열을 특정한 문자 구분하여(delimiter) 문자열의 리스트로 치환\n",
    " - 빅데이터에서 CSV파일을 ,로 구분하여서 리스트로 치환할 때 많이 사용\n",
    " - ()안에 아무것도 입력하지 않으면 Default는 공백으로 split !"
   ]
  },
  {
   "cell_type": "code",
   "execution_count": 50,
   "metadata": {},
   "outputs": [
    {
     "name": "stdout",
     "output_type": "stream",
     "text": [
      "['hello', 'world', 'what', 'a', 'nice', 'weather']\n",
      "['hello ', 'orld ', 'hat a nice ', 'eather']\n"
     ]
    }
   ],
   "source": [
    "a = 'hello world what a nice weather'\n",
    "print(a.split())\n",
    "print(a.split('w'))"
   ]
  },
  {
   "cell_type": "code",
   "execution_count": null,
   "metadata": {},
   "outputs": [],
   "source": []
  }
 ],
 "metadata": {
  "kernelspec": {
   "display_name": "Python 3",
   "language": "python",
   "name": "python3"
  },
  "language_info": {
   "codemirror_mode": {
    "name": "ipython",
    "version": 3
   },
   "file_extension": ".py",
   "mimetype": "text/x-python",
   "name": "python",
   "nbconvert_exporter": "python",
   "pygments_lexer": "ipython3",
   "version": "3.7.6"
  }
 },
 "nbformat": 4,
 "nbformat_minor": 4
}
