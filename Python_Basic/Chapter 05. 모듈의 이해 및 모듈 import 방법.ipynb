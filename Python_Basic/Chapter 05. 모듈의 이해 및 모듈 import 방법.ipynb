{
 "cells": [
  {
   "cell_type": "markdown",
   "metadata": {},
   "source": [
    "### 학습목표\n",
    " 1. module의 이해 및 module import 하기"
   ]
  },
  {
   "cell_type": "markdown",
   "metadata": {},
   "source": [
    " + 파이썬의 모듈이라는 기능을 활용해 코드를 분리하고 공유함\n",
    " + 모듈은 여러 변수와 함수를 가지고 있는 집합체로, 크게 '표준모듈'과 '외부모듈'로 나뉜다,\n",
    " + 파이썬에 기본적으로 내장되어 있는 모듈을 '표준모듈'(=내부모듈) 이라고 한다.\n",
    " + 다른 사람들이 만들어서 공개한 모듈을 '외부모듈'이라고 한다.\n",
    " + 일반적으로 모듈을 가져오는 경우에는 import 구문은 모드 가장 위에 작성한다.\n",
    " + 표준묘듈이 궁금할 때는 '파이썬 공식 문서'를 확인\n",
    " + [파이썬 공식문서](http://docs.python.org/3/library/index.html)\n",
    " + anaconda를 통해서도 확인 가능.\n",
    " \n",
    " ※ 파이썬의 모듈은 단순한 파이썬 파일이 아님. import 구문은 가장먼저 현재 폴더에서 import 뒤에 적어 놓은 파일을 찾는다. 만약 하단의 코드와 같이 random 모듈을 import 하고 파일이름을 random.py라고 생성하면 type오류가 발생함.  random.py라는 이름으로 파일을 저장하고 실행하면 실제 파이썬이 제공하는 random 모듈이 아니라, 같은 파일(random.py)을 읽어 문제가 발생. **따라서 모듈과 같은 이름으로 파일을 저장하지 않게 주의해야 함!!!!!!!!**\n",
    " \n",
    "```python\n",
    "   # random.py로 저장\n",
    "   import random\n",
    "   print('# random 모듈 사용')\n",
    "```"
   ]
  },
  {
   "cell_type": "markdown",
   "metadata": {},
   "source": [
    "### **모듈 임포트**\n",
    " + 그동안 사용했던 함수들 처럼, 다양한 기능들이 미리 함수로 구현되어 모듈 형태로 제공\n",
    " + 대표적으로 추후 과정에서 사용하게 될 아래의 모듈들이 존재\n",
    " \n",
    " + requests - HTTP 요청/응답 모듈              # 웹 크롤링 시 많이 사용\n",
    " + numpy - 수치해석 모듈                       # 빅데이터 분석시\n",
    " + pandas - 데이터 분석 모듈                   # 빅데이터 분석시\n",
    " + Beautifulsoup4, Scripy, Selenium - 웹 크롤링\n",
    " + ScikitLearn - 머신러닝\n",
    " + matplotlib, Seaborn - 데이터 시각화\n",
    " + tensorflow, keras, PyTorch - 인공지능(AI)"
   ]
  },
  {
   "cell_type": "code",
   "execution_count": null,
   "metadata": {},
   "outputs": [],
   "source": [
    "import requests\n",
    "resp = requests.get('http://naver.com') # 네이버 메인 메뉴 소스 전부를 크롤링 한 것\n",
    "resp.text"
   ]
  },
  {
   "cell_type": "markdown",
   "metadata": {},
   "source": [
    "### import\n",
    " - import를 사용하여 해당 모듈 전체를 import"
   ]
  },
  {
   "cell_type": "code",
   "execution_count": null,
   "metadata": {},
   "outputs": [],
   "source": [
    "import math # math에 있는 모든 기능 추가. 그래서 아래와 같이 파이값이나 코싸인 값을 구할 수 있다. 근데 만약 내가 단지 2개의 math기능을 \n",
    "             # 사용 하겠다 하면 비효율적"
   ]
  },
  {
   "cell_type": "code",
   "execution_count": 3,
   "metadata": {},
   "outputs": [
    {
     "data": {
      "text/plain": [
       "3.141592653589793"
      ]
     },
     "execution_count": 3,
     "metadata": {},
     "output_type": "execute_result"
    }
   ],
   "source": [
    "math.pi #파이 값 구하기"
   ]
  },
  {
   "cell_type": "code",
   "execution_count": 4,
   "metadata": {},
   "outputs": [
    {
     "data": {
      "text/plain": [
       "0.8623188722876839"
      ]
     },
     "execution_count": 4,
     "metadata": {},
     "output_type": "execute_result"
    }
   ],
   "source": [
    "math.cos(100) # 코싸인 값 구하기"
   ]
  },
  {
   "cell_type": "markdown",
   "metadata": {},
   "source": [
    "#### from import\n",
    " - 해당 모듈에서 특정한 타입만 import"
   ]
  },
  {
   "cell_type": "code",
   "execution_count": 7,
   "metadata": {},
   "outputs": [],
   "source": [
    "from math import pi\n",
    "from math import cos\n",
    "from math import pi, cos, sin #  등 여러개를 나열해도 됨\n",
    "# from math import sin"
   ]
  },
  {
   "cell_type": "code",
   "execution_count": 8,
   "metadata": {},
   "outputs": [
    {
     "data": {
      "text/plain": [
       "0.8623188722876839"
      ]
     },
     "execution_count": 8,
     "metadata": {},
     "output_type": "execute_result"
    }
   ],
   "source": [
    "cos(100)"
   ]
  },
  {
   "cell_type": "markdown",
   "metadata": {},
   "source": [
    "#### \\* 임포트\n",
    " - 해당 모듈내에 정의된 모든 것을 import\n",
    " - 일반적으로 사용이 권장되지 않음\n",
    " - 다른 모듈에 이름이 중복된 함수가 있을 수가 있음(식별자 이름에서 충돌 발생 가능)"
   ]
  },
  {
   "cell_type": "code",
   "execution_count": 9,
   "metadata": {},
   "outputs": [],
   "source": [
    "from math import *"
   ]
  },
  {
   "cell_type": "markdown",
   "metadata": {},
   "source": [
    " - 위 전체 import와 \\* import 의 차이 점 : 위는 math.cos(100)로 해서 내가 쓰려고 했던 메서드가 뭔지 확인 가능하나 이건 헷갈릴 수 있음"
   ]
  },
  {
   "cell_type": "code",
   "execution_count": 10,
   "metadata": {},
   "outputs": [
    {
     "data": {
      "text/plain": [
       "0.8623188722876839"
      ]
     },
     "execution_count": 10,
     "metadata": {},
     "output_type": "execute_result"
    }
   ],
   "source": [
    "cos(100)"
   ]
  },
  {
   "cell_type": "code",
   "execution_count": 11,
   "metadata": {},
   "outputs": [],
   "source": [
    "from math import cos"
   ]
  },
  {
   "cell_type": "markdown",
   "metadata": {},
   "source": [
    "#### as\n",
    " - 모듈 import시, alias( 별명) 지정가능"
   ]
  },
  {
   "cell_type": "code",
   "execution_count": 12,
   "metadata": {},
   "outputs": [
    {
     "data": {
      "text/plain": [
       "0.8623188722876839"
      ]
     },
     "execution_count": 12,
     "metadata": {},
     "output_type": "execute_result"
    }
   ],
   "source": [
    "import math as m\n",
    "m.exp(3)\n",
    "m.cos(100)"
   ]
  },
  {
   "cell_type": "markdown",
   "metadata": {},
   "source": [
    "#### sys  모듈\n",
    " - JAVA 에서의  sys 와 같은 개념"
   ]
  },
  {
   "cell_type": "code",
   "execution_count": 13,
   "metadata": {},
   "outputs": [
    {
     "ename": "SystemExit",
     "evalue": "",
     "output_type": "error",
     "traceback": [
      "An exception has occurred, use %tb to see the full traceback.\n",
      "\u001b[1;31mSystemExit\u001b[0m\n"
     ]
    },
    {
     "name": "stderr",
     "output_type": "stream",
     "text": [
      "C:\\Users\\506-01\\anaconda3\\lib\\site-packages\\IPython\\core\\interactiveshell.py:3339: UserWarning: To exit: use 'exit', 'quit', or Ctrl-D.\n",
      "  warn(\"To exit: use 'exit', 'quit', or Ctrl-D.\", stacklevel=1)\n"
     ]
    }
   ],
   "source": [
    "import sys\n",
    "sys.exit() # 프로그램 강제 종료"
   ]
  },
  {
   "cell_type": "markdown",
   "metadata": {},
   "source": [
    "#### os 모듈\n",
    " - 사용도는 낮다"
   ]
  },
  {
   "cell_type": "code",
   "execution_count": 14,
   "metadata": {},
   "outputs": [
    {
     "name": "stdout",
     "output_type": "stream",
     "text": [
      "nt\n",
      "C:\\bigdata\\jupyter_workspace\\Python_Basic\n"
     ]
    }
   ],
   "source": [
    "import os\n",
    "\n",
    "print(os.name) # 현재 운영체제\n",
    "print(os.getcwd()) # 현재 폴더"
   ]
  },
  {
   "cell_type": "code",
   "execution_count": null,
   "metadata": {},
   "outputs": [],
   "source": []
  },
  {
   "cell_type": "code",
   "execution_count": null,
   "metadata": {},
   "outputs": [],
   "source": []
  },
  {
   "cell_type": "code",
   "execution_count": null,
   "metadata": {},
   "outputs": [],
   "source": []
  },
  {
   "cell_type": "code",
   "execution_count": null,
   "metadata": {},
   "outputs": [],
   "source": []
  },
  {
   "cell_type": "code",
   "execution_count": null,
   "metadata": {},
   "outputs": [],
   "source": []
  },
  {
   "cell_type": "code",
   "execution_count": null,
   "metadata": {},
   "outputs": [],
   "source": []
  },
  {
   "cell_type": "code",
   "execution_count": null,
   "metadata": {},
   "outputs": [],
   "source": []
  },
  {
   "cell_type": "code",
   "execution_count": null,
   "metadata": {},
   "outputs": [],
   "source": []
  },
  {
   "cell_type": "code",
   "execution_count": null,
   "metadata": {},
   "outputs": [],
   "source": []
  },
  {
   "cell_type": "code",
   "execution_count": null,
   "metadata": {},
   "outputs": [],
   "source": []
  },
  {
   "cell_type": "code",
   "execution_count": null,
   "metadata": {},
   "outputs": [],
   "source": []
  },
  {
   "cell_type": "code",
   "execution_count": null,
   "metadata": {},
   "outputs": [],
   "source": []
  },
  {
   "cell_type": "code",
   "execution_count": null,
   "metadata": {},
   "outputs": [],
   "source": []
  },
  {
   "cell_type": "code",
   "execution_count": null,
   "metadata": {},
   "outputs": [],
   "source": []
  },
  {
   "cell_type": "code",
   "execution_count": null,
   "metadata": {},
   "outputs": [],
   "source": []
  },
  {
   "cell_type": "code",
   "execution_count": null,
   "metadata": {},
   "outputs": [],
   "source": []
  }
 ],
 "metadata": {
  "kernelspec": {
   "display_name": "Python 3",
   "language": "python",
   "name": "python3"
  },
  "language_info": {
   "codemirror_mode": {
    "name": "ipython",
    "version": 3
   },
   "file_extension": ".py",
   "mimetype": "text/x-python",
   "name": "python",
   "nbconvert_exporter": "python",
   "pygments_lexer": "ipython3",
   "version": "3.7.6"
  }
 },
 "nbformat": 4,
 "nbformat_minor": 4
}
