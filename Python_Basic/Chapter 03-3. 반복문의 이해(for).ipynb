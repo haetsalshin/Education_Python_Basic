{
 "cells": [
  {
   "cell_type": "markdown",
   "metadata": {},
   "source": [
    "## 학습목표\n",
    " * 반복문의 이해 및 활용(for)\n",
    " * range 함수 이해"
   ]
  },
  {
   "cell_type": "markdown",
   "metadata": {},
   "source": [
    "### for 반복문\n",
    " - 리스트, 문자열 등등 순회 가능한 객체를 순회하면서 값을 처리할 때 사용\n",
    " - 반복 횟수가 정해져 있을 때 사용, collection과 사용하는 경우가 많다\n",
    " - 컬렉션 안에 들어간 values 만큼만 반복을 한다.\n",
    " - 아래와 같은 문법으로 사용\n",
    " - 여기서 i는 매번 수행 될 때마다, a의 아이템으로 순차적으로 변경 됨\n",
    " - 모든 아이템이 순회되면 for블록 종료\n",
    " \n",
    "```python\n",
    " # python\n",
    "a = [1, 2, 4, 3, 5]\n",
    "for i in a:\n",
    "    print(i, i*2)\n",
    "\n",
    " # java\n",
    "for(int i = 0; i < a.length ; i ++){\n",
    "    system.out.println(i, i* 2)\n",
    "}\n",
    "```  "
   ]
  },
  {
   "cell_type": "markdown",
   "metadata": {},
   "source": [
    "#### 문자열의 아이템 출력하기\n",
    " - 문자열의 경우 순회 가능, 리스트와 유사하게 순회 가능"
   ]
  },
  {
   "cell_type": "code",
   "execution_count": 1,
   "metadata": {},
   "outputs": [
    {
     "name": "stdout",
     "output_type": "stream",
     "text": [
      "h\n",
      "e\n",
      "l\n",
      "l\n",
      "o\n",
      " \n",
      "w\n",
      "o\n",
      "r\n",
      "l\n",
      "d\n"
     ]
    }
   ],
   "source": [
    "for x in 'hello world':\n",
    "    print(x)"
   ]
  },
  {
   "cell_type": "code",
   "execution_count": 2,
   "metadata": {},
   "outputs": [
    {
     "name": "stdout",
     "output_type": "stream",
     "text": [
      "h\n",
      "e\n",
      "l\n",
      "l\n",
      "o\n",
      " \n",
      "w\n",
      "o\n",
      "r\n",
      "l\n",
      "d\n"
     ]
    }
   ],
   "source": [
    "a = 'hello world'\n",
    "for charachter in a:\n",
    "    print(charachter)"
   ]
  },
  {
   "cell_type": "markdown",
   "metadata": {},
   "source": [
    " - enumerate(컬렉션) 함수를 사용하면 인덱스번호(i) 사용 가능"
   ]
  },
  {
   "cell_type": "code",
   "execution_count": 4,
   "metadata": {},
   "outputs": [
    {
     "name": "stdout",
     "output_type": "stream",
     "text": [
      "0 h\n",
      "1 e\n",
      "2 l\n",
      "3 l\n",
      "4 o\n",
      "5  \n",
      "6 w\n",
      "7 o\n",
      "8 r\n",
      "9 l\n",
      "10 d\n"
     ]
    }
   ],
   "source": [
    "a = 'hello world'\n",
    "for i, character in enumerate(a):\n",
    "    print(i, character)"
   ]
  },
  {
   "cell_type": "markdown",
   "metadata": {},
   "source": [
    "#### 리스트 아이템 출력하기"
   ]
  },
  {
   "cell_type": "code",
   "execution_count": 5,
   "metadata": {},
   "outputs": [
    {
     "name": "stdout",
     "output_type": "stream",
     "text": [
      "2\n",
      "5.0\n",
      "4\n",
      "2.0\n",
      "6\n"
     ]
    }
   ],
   "source": [
    "a = [1, 10, 3, 4, 5]\n",
    "for num in a:\n",
    "    if num % 2 == 0:\n",
    "        print(num/2)\n",
    "    else:\n",
    "        print(num+1)"
   ]
  },
  {
   "cell_type": "markdown",
   "metadata": {},
   "source": [
    "#### dict의 아이템 출력하기\n",
    " - dictionary의 경우 기본적으로 순회 하게 되면 key값을 참조\n",
    " - keys()함수를 이용하여 key 값만 순회 가능\n",
    " - values() 함수를 이용하여 value값만 순회 가능\n",
    " - items()함수를 이용하여 tuple형태로 key, value 순회 가능"
   ]
  },
  {
   "cell_type": "code",
   "execution_count": 6,
   "metadata": {},
   "outputs": [
    {
     "name": "stdout",
     "output_type": "stream",
     "text": [
      "korea seoul\n",
      "japan tokyo\n",
      "canada ottawa\n"
     ]
    }
   ],
   "source": [
    "a = {'korea':'seoul','japan':'tokyo','canada':'ottawa'}\n",
    "for key in a:\n",
    "    print(key, a[key])\n"
   ]
  },
  {
   "cell_type": "code",
   "execution_count": 7,
   "metadata": {},
   "outputs": [
    {
     "name": "stdout",
     "output_type": "stream",
     "text": [
      "korea\n",
      "japan\n",
      "canada\n"
     ]
    }
   ],
   "source": [
    "for key in a:\n",
    "    print(key)"
   ]
  },
  {
   "cell_type": "code",
   "execution_count": 8,
   "metadata": {},
   "outputs": [
    {
     "name": "stdout",
     "output_type": "stream",
     "text": [
      "seoul\n",
      "tokyo\n",
      "ottawa\n"
     ]
    }
   ],
   "source": [
    " # value만 호출하기\n",
    "for value in a.values():\n",
    "    print(value)"
   ]
  },
  {
   "cell_type": "code",
   "execution_count": 10,
   "metadata": {},
   "outputs": [
    {
     "name": "stdout",
     "output_type": "stream",
     "text": [
      "korea seoul\n",
      "japan tokyo\n",
      "canada ottawa\n"
     ]
    }
   ],
   "source": [
    " # items() 함수는 return을 tuple  type 으로 함\n",
    "for key, value in a.items(): # unpakcing\n",
    "    print(key, value)"
   ]
  },
  {
   "cell_type": "code",
   "execution_count": 11,
   "metadata": {},
   "outputs": [
    {
     "name": "stdout",
     "output_type": "stream",
     "text": [
      "('korea', 'seoul')\n",
      "('japan', 'tokyo')\n",
      "('canada', 'ottawa')\n"
     ]
    }
   ],
   "source": [
    "for items in a.items():\n",
    "    print(items)"
   ]
  },
  {
   "cell_type": "markdown",
   "metadata": {},
   "source": [
    "#### for 에서 index 사용하기\n",
    " - 기본적으로 for에 리스트를 순회하는 경우, 값만 추출함\n",
    " - 아래와 같은 코드로 인덱스와 값 모두 사용 가능(enumerate  함수 사용)\n",
    " \n",
    "```python\n",
    "a = [1, 2, 4, 3, 5]\n",
    "for i, val in enumerate(a):\n",
    "    print i, val\n",
    "```"
   ]
  },
  {
   "cell_type": "code",
   "execution_count": 12,
   "metadata": {},
   "outputs": [
    {
     "name": "stdout",
     "output_type": "stream",
     "text": [
      "4 5\n"
     ]
    }
   ],
   "source": [
    "a = [1, 2, 3, 4, 5]\n",
    "for index, num in enumerate(a):\n",
    "    if index>3:\n",
    "        print(index, num)"
   ]
  },
  {
   "cell_type": "markdown",
   "metadata": {},
   "source": [
    "#### break\n",
    " - for의 경우에도 특정 조건일 때, loop종료가 가능"
   ]
  },
  {
   "cell_type": "code",
   "execution_count": 15,
   "metadata": {},
   "outputs": [
    {
     "name": "stdout",
     "output_type": "stream",
     "text": [
      "100\n"
     ]
    }
   ],
   "source": [
    "a = [100, 90, 80, 70, 60, 50]\n",
    "for num in a:\n",
    "    if num < 100:\n",
    "        break\n",
    "    print(num)"
   ]
  },
  {
   "cell_type": "markdown",
   "metadata": {},
   "source": [
    "#### continue\n",
    " - 해당 아이템을 건너 뛰고 싶을 때 사용"
   ]
  },
  {
   "cell_type": "code",
   "execution_count": 16,
   "metadata": {},
   "outputs": [
    {
     "name": "stdout",
     "output_type": "stream",
     "text": [
      "100\n",
      "90\n",
      "80\n",
      "50\n"
     ]
    }
   ],
   "source": [
    "a = [100, 90, 80, 70, 60, 50]\n",
    "for num in a:\n",
    "    if num >= 60 and num <= 70:\n",
    "        continue\n",
    "    print(num)"
   ]
  },
  {
   "cell_type": "markdown",
   "metadata": {},
   "source": [
    "#### loop중첩\n",
    " - 반복문의 경우에도 중첩하여 사용 가능\n",
    " - 중첩이라는 것은 반복문 블록의 코드안에 또 반복문의 코드가 작성되는 것을 의미\n",
    " - 이런 경우, 내부 루프는 외부 루프가 수행되는 만큼 반복 수행 됨\n",
    " - 또한 중첩의 경우 무한히 가능\n",
    " \n",
    "```python\n",
    "a = [1, 2, 4]\n",
    "for i in a:\n",
    "    for j in a:\n",
    "        print i * j\n",
    "```"
   ]
  },
  {
   "cell_type": "markdown",
   "metadata": {},
   "source": [
    "#### 구구단 출력하기"
   ]
  },
  {
   "cell_type": "markdown",
   "metadata": {},
   "source": [
    "2 * 1 = 2  \n",
    "2 * 2 = 4  \n",
    "2 * 3 = 6  \n",
    "...  \n",
    "2 * 9 = 18  \n",
    "3 * 1 = 3  \n",
    "...  \n",
    "3 * 9 = 27  \n",
    "...  \n",
    "9 * 1 = 9  \n",
    "...  \n",
    "9 * 9 = 81"
   ]
  },
  {
   "cell_type": "code",
   "execution_count": null,
   "metadata": {},
   "outputs": [],
   "source": [
    "x = [2, 3, 4, 5, 6, 7, 8, 9]       # range(2 ,10)\n",
    "y = [1, 2, 3, 4, 5, 6, 7, 8, 9,]   # range(1, 10)\n",
    "\n",
    "for i in x:\n",
    "    for j in y:\n",
    "        print(i, 'x', j, '=', i*j)"
   ]
  },
  {
   "cell_type": "markdown",
   "metadata": {},
   "source": [
    "#### collection의 길이\n",
    " - len() 내장함수로 계산 가능\n",
    " - 내장함수란 파이썬 내부에 구현되어 있어서, import 하지 않고도 사용 가능한 함수를 의미\n",
    " - abs, len, type, range 등이 있음 (과정 진행하면서 필요할 때마다 다룰 예정)"
   ]
  },
  {
   "cell_type": "code",
   "execution_count": 19,
   "metadata": {},
   "outputs": [
    {
     "data": {
      "text/plain": [
       "11"
      ]
     },
     "execution_count": 19,
     "metadata": {},
     "output_type": "execute_result"
    }
   ],
   "source": [
    "a = [1, 2, 3, 4, 5, 1]\n",
    "len('hello world')"
   ]
  },
  {
   "cell_type": "markdown",
   "metadata": {},
   "source": [
    "#### range함수\n",
    " - 리스트를 쉽게 만들 수 있는 내장함수\n",
    " - 주어진 값에 따라 다양한 결과를 반환\n",
    " - range(시작값, 끝값, 건너뛰는 값), 끝 값은 -1한 숫자까지\n",
    " \n",
    " \n",
    "```python\n",
    "range(10)        -> [0, 1, 2, 3, 4, 5, 6, 7, 8, 9] # 시작이 0번부터이다. 끝번호는 -1까지만\n",
    "range(2, 10)     -> [2, 3, 4, 5, 6, 7, 8, 9]\n",
    "range(2, 10, 3)  -> [2, 5, 8]\n",
    "```"
   ]
  },
  {
   "cell_type": "markdown",
   "metadata": {},
   "source": [
    "* 1~100까지 리스트 출력하기"
   ]
  },
  {
   "cell_type": "code",
   "execution_count": null,
   "metadata": {},
   "outputs": [],
   "source": [
    "list(range(101))"
   ]
  },
  {
   "cell_type": "code",
   "execution_count": null,
   "metadata": {},
   "outputs": [],
   "source": [
    "a = list(range(1, 201))\n",
    "print(a)"
   ]
  },
  {
   "cell_type": "code",
   "execution_count": 24,
   "metadata": {},
   "outputs": [
    {
     "data": {
      "text/plain": [
       "[1, 6, 11, 16, 21, 26, 31, 36, 41, 46, 51, 56, 61, 66, 71, 76, 81, 86, 91, 96]"
      ]
     },
     "execution_count": 24,
     "metadata": {},
     "output_type": "execute_result"
    }
   ],
   "source": [
    "list(range(1, 101, 5))"
   ]
  },
  {
   "cell_type": "markdown",
   "metadata": {},
   "source": [
    "* **연습문제** 1부터 100 사이의 5의 배수만을 갖는 리스트를 작성하시오."
   ]
  },
  {
   "cell_type": "code",
   "execution_count": 30,
   "metadata": {},
   "outputs": [
    {
     "data": {
      "text/plain": [
       "[5,\n",
       " 10,\n",
       " 15,\n",
       " 20,\n",
       " 25,\n",
       " 30,\n",
       " 35,\n",
       " 40,\n",
       " 45,\n",
       " 50,\n",
       " 55,\n",
       " 60,\n",
       " 65,\n",
       " 70,\n",
       " 75,\n",
       " 80,\n",
       " 85,\n",
       " 90,\n",
       " 95,\n",
       " 100]"
      ]
     },
     "execution_count": 30,
     "metadata": {},
     "output_type": "execute_result"
    }
   ],
   "source": [
    "list(range(5,101,5))"
   ]
  },
  {
   "cell_type": "code",
   "execution_count": null,
   "metadata": {},
   "outputs": [],
   "source": []
  },
  {
   "cell_type": "code",
   "execution_count": null,
   "metadata": {},
   "outputs": [],
   "source": []
  }
 ],
 "metadata": {
  "kernelspec": {
   "display_name": "Python 3",
   "language": "python",
   "name": "python3"
  },
  "language_info": {
   "codemirror_mode": {
    "name": "ipython",
    "version": 3
   },
   "file_extension": ".py",
   "mimetype": "text/x-python",
   "name": "python",
   "nbconvert_exporter": "python",
   "pygments_lexer": "ipython3",
   "version": "3.7.6"
  }
 },
 "nbformat": 4,
 "nbformat_minor": 4
}
